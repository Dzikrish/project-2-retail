{
 "cells": [
  {
   "cell_type": "code",
   "execution_count": 1,
   "id": "4cdee91a",
   "metadata": {},
   "outputs": [],
   "source": [
    "import kaggle\n",
    "import pandas as pd\n",
    "from sqlalchemy import create_engine"
   ]
  },
  {
   "cell_type": "code",
   "execution_count": 2,
   "id": "a24ec744",
   "metadata": {},
   "outputs": [
    {
     "name": "stdout",
     "output_type": "stream",
     "text": [
      "Dataset URL: https://www.kaggle.com/datasets/mohammadtalib786/retail-sales-dataset\n"
     ]
    },
    {
     "data": {
      "text/plain": [
       "'.\\\\dataset-metadata.json'"
      ]
     },
     "execution_count": 2,
     "metadata": {},
     "output_type": "execute_result"
    }
   ],
   "source": [
    "kaggle.api.authenticate()\n",
    "\n",
    "kaggle.api.dataset_download_files('mohammadtalib786/retail-sales-dataset', path='.', unzip=True)\n",
    "\n",
    "kaggle.api.dataset_metadata('mohammadtalib786/retail-sales-dataset', path='.')"
   ]
  },
  {
   "cell_type": "code",
   "execution_count": 3,
   "id": "a2d9ab97",
   "metadata": {},
   "outputs": [
    {
     "name": "stdout",
     "output_type": "stream",
     "text": [
      "<class 'pandas.core.frame.DataFrame'>\n",
      "RangeIndex: 1000 entries, 0 to 999\n",
      "Data columns (total 9 columns):\n",
      " #   Column            Non-Null Count  Dtype \n",
      "---  ------            --------------  ----- \n",
      " 0   Transaction ID    1000 non-null   int64 \n",
      " 1   Date              1000 non-null   object\n",
      " 2   Customer ID       1000 non-null   object\n",
      " 3   Gender            1000 non-null   object\n",
      " 4   Age               1000 non-null   int64 \n",
      " 5   Product Category  1000 non-null   object\n",
      " 6   Quantity          1000 non-null   int64 \n",
      " 7   Price per Unit    1000 non-null   int64 \n",
      " 8   Total Amount      1000 non-null   int64 \n",
      "dtypes: int64(5), object(4)\n",
      "memory usage: 70.4+ KB\n"
     ]
    }
   ],
   "source": [
    "df = pd.read_csv('retail_sales_dataset.csv')\n",
    "df.info()"
   ]
  },
  {
   "cell_type": "code",
   "execution_count": 4,
   "id": "5ef22b29",
   "metadata": {},
   "outputs": [
    {
     "data": {
      "text/plain": [
       "0"
      ]
     },
     "execution_count": 4,
     "metadata": {},
     "output_type": "execute_result"
    }
   ],
   "source": [
    "df.duplicated().sum()"
   ]
  },
  {
   "cell_type": "code",
   "execution_count": 6,
   "id": "9216a475",
   "metadata": {},
   "outputs": [
    {
     "data": {
      "text/plain": [
       "Transaction ID      0\n",
       "Date                0\n",
       "Customer ID         0\n",
       "Gender              0\n",
       "Age                 0\n",
       "Product Category    0\n",
       "Quantity            0\n",
       "Price per Unit      0\n",
       "Total Amount        0\n",
       "dtype: int64"
      ]
     },
     "execution_count": 6,
     "metadata": {},
     "output_type": "execute_result"
    }
   ],
   "source": [
    "df.isnull().sum()"
   ]
  },
  {
   "cell_type": "code",
   "execution_count": 11,
   "id": "90ecc32e",
   "metadata": {},
   "outputs": [
    {
     "name": "stdout",
     "output_type": "stream",
     "text": [
      "Transaction ID\n",
      "1       1\n",
      "672     1\n",
      "659     1\n",
      "660     1\n",
      "661     1\n",
      "       ..\n",
      "339     1\n",
      "340     1\n",
      "341     1\n",
      "342     1\n",
      "1000    1\n",
      "Name: count, Length: 1000, dtype: int64 \n",
      "\n",
      "Date\n",
      "2023-05-16    11\n",
      "2023-07-14    10\n",
      "2023-05-23     9\n",
      "2023-08-05     8\n",
      "2023-02-05     8\n",
      "              ..\n",
      "2023-09-10     1\n",
      "2023-02-16     1\n",
      "2023-03-31     1\n",
      "2023-01-25     1\n",
      "2023-05-28     1\n",
      "Name: count, Length: 345, dtype: int64 \n",
      "\n",
      "Customer ID\n",
      "CUST001     1\n",
      "CUST672     1\n",
      "CUST659     1\n",
      "CUST660     1\n",
      "CUST661     1\n",
      "           ..\n",
      "CUST339     1\n",
      "CUST340     1\n",
      "CUST341     1\n",
      "CUST342     1\n",
      "CUST1000    1\n",
      "Name: count, Length: 1000, dtype: int64 \n",
      "\n",
      "Gender\n",
      "Female    510\n",
      "Male      490\n",
      "Name: count, dtype: int64 \n",
      "\n",
      "Age\n",
      "43    31\n",
      "64    31\n",
      "57    30\n",
      "51    30\n",
      "34    28\n",
      "54    28\n",
      "22    27\n",
      "62    27\n",
      "42    26\n",
      "47    26\n",
      "46    25\n",
      "23    24\n",
      "40    24\n",
      "50    23\n",
      "27    23\n",
      "52    22\n",
      "60    22\n",
      "30    22\n",
      "26    22\n",
      "31    22\n",
      "35    22\n",
      "28    21\n",
      "41    21\n",
      "18    21\n",
      "55    21\n",
      "20    21\n",
      "19    21\n",
      "21    20\n",
      "25    20\n",
      "49    19\n",
      "56    19\n",
      "32    19\n",
      "38    19\n",
      "61    18\n",
      "39    18\n",
      "48    18\n",
      "63    17\n",
      "45    17\n",
      "59    17\n",
      "53    17\n",
      "29    16\n",
      "37    16\n",
      "36    15\n",
      "44    15\n",
      "24    15\n",
      "58    14\n",
      "33    10\n",
      "Name: count, dtype: int64 \n",
      "\n",
      "Product Category\n",
      "Clothing       351\n",
      "Electronics    342\n",
      "Beauty         307\n",
      "Name: count, dtype: int64 \n",
      "\n",
      "Quantity\n",
      "4    263\n",
      "1    253\n",
      "2    243\n",
      "3    241\n",
      "Name: count, dtype: int64 \n",
      "\n",
      "Price per Unit\n",
      "50     211\n",
      "25     210\n",
      "500    199\n",
      "300    197\n",
      "30     183\n",
      "Name: count, dtype: int64 \n",
      "\n",
      "Total Amount\n",
      "50      115\n",
      "100     108\n",
      "900      62\n",
      "200      62\n",
      "1200     54\n",
      "30       51\n",
      "500      51\n",
      "25       51\n",
      "1500     50\n",
      "1000     49\n",
      "2000     49\n",
      "300      46\n",
      "60       45\n",
      "90       44\n",
      "120      43\n",
      "75       43\n",
      "150      42\n",
      "600      35\n",
      "Name: count, dtype: int64 \n",
      "\n"
     ]
    }
   ],
   "source": [
    "for kolom in df.columns:\n",
    "  print(df[kolom].value_counts(), \"\\n\")"
   ]
  },
  {
   "cell_type": "code",
   "execution_count": 14,
   "id": "32b36b20",
   "metadata": {},
   "outputs": [
    {
     "data": {
      "text/plain": [
       "1000"
      ]
     },
     "execution_count": 14,
     "metadata": {},
     "output_type": "execute_result"
    }
   ],
   "source": [
    "user = 'postgres'\n",
    "password = 'root'\n",
    "host = 'localhost'\n",
    "port = '5432'\n",
    "dbName = 'Retail-Sales'\n",
    "engine = create_engine(f'postgresql://{user}:{password}@{host}:{port}/{dbName}')\n",
    "df.to_sql(name='Sales', con=engine)"
   ]
  },
  {
   "cell_type": "code",
   "execution_count": null,
   "id": "42a4c69e",
   "metadata": {},
   "outputs": [],
   "source": []
  }
 ],
 "metadata": {
  "kernelspec": {
   "display_name": "Python 3 (ipykernel)",
   "language": "python",
   "name": "python3"
  },
  "language_info": {
   "codemirror_mode": {
    "name": "ipython",
    "version": 3
   },
   "file_extension": ".py",
   "mimetype": "text/x-python",
   "name": "python",
   "nbconvert_exporter": "python",
   "pygments_lexer": "ipython3",
   "version": "3.10.6"
  }
 },
 "nbformat": 4,
 "nbformat_minor": 5
}
